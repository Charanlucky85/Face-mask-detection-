{
  "nbformat": 4,
  "nbformat_minor": 0,
  "metadata": {
    "colab": {
      "provenance": [],
      "authorship_tag": "ABX9TyNs1AJmBUwlVNHbuhyl2208",
      "include_colab_link": true
    },
    "kernelspec": {
      "name": "python3",
      "display_name": "Python 3"
    },
    "language_info": {
      "name": "python"
    }
  },
  "cells": [
    {
      "cell_type": "markdown",
      "metadata": {
        "id": "view-in-github",
        "colab_type": "text"
      },
      "source": [
        "<a href=\"https://colab.research.google.com/github/Charanlucky85/Face-mask-detection-/blob/main/python_practice.ipynb\" target=\"_parent\"><img src=\"https://colab.research.google.com/assets/colab-badge.svg\" alt=\"Open In Colab\"/></a>"
      ]
    },
    {
      "cell_type": "code",
      "execution_count": null,
      "metadata": {
        "id": "V2PARNbHYeKQ"
      },
      "outputs": [],
      "source": []
    },
    {
      "cell_type": "code",
      "source": [],
      "metadata": {
        "id": "kF9wj59o35oJ"
      },
      "execution_count": null,
      "outputs": []
    },
    {
      "cell_type": "code",
      "source": [
        "x=10\n",
        "r=x %2\n",
        "if r==0:\n",
        "  print(\"even\")\n",
        "else:\n",
        "  print(\"odd\")\n",
        "\n",
        "  print(\"bye\")"
      ],
      "metadata": {
        "colab": {
          "base_uri": "https://localhost:8080/"
        },
        "id": "Zwlmb-A9Ylef",
        "outputId": "4fd2a7a3-f868-485f-93af-19c8c0fe8195"
      },
      "execution_count": null,
      "outputs": [
        {
          "output_type": "stream",
          "name": "stdout",
          "text": [
            "even\n"
          ]
        }
      ]
    },
    {
      "cell_type": "code",
      "source": [
        "x=int(input())\n",
        "if x==1:\n",
        "  print(\"one\")\n",
        "\n",
        "elif x==2:\n",
        "  print(\"two\")\n",
        "\n",
        "elif x==3:\n",
        "  print(\"three\")\n",
        "else:\n",
        "  print(\"bye\")\n"
      ],
      "metadata": {
        "colab": {
          "base_uri": "https://localhost:8080/"
        },
        "id": "_KpJVimYZPqC",
        "outputId": "aa048daf-6f59-4a71-8dbe-2e397891cdd3"
      },
      "execution_count": null,
      "outputs": [
        {
          "output_type": "stream",
          "name": "stdout",
          "text": [
            "4\n",
            "bye\n"
          ]
        }
      ]
    },
    {
      "cell_type": "code",
      "source": [
        "x=int(input())\n",
        "y=int(input())\n",
        "z=int(input())\n",
        "if x>y &x>z:\n",
        "  print(\"x is greater\")\n",
        "elif y>x & y>z:\n",
        "  print(\"y is greater\")\n",
        "else:\n",
        "  print(\"z is greater\")\n"
      ],
      "metadata": {
        "colab": {
          "base_uri": "https://localhost:8080/"
        },
        "id": "l7UEkxtwaA5h",
        "outputId": "78d14caf-f251-47a4-b9c7-452646cf33ee"
      },
      "execution_count": null,
      "outputs": [
        {
          "output_type": "stream",
          "name": "stdout",
          "text": [
            "56\n",
            "34\n",
            "21\n",
            "x is greater\n"
          ]
        }
      ]
    },
    {
      "cell_type": "code",
      "source": [
        "i =1\n",
        "j = 1\n",
        "while i<=5:\n",
        "  print(\"charan\")\n",
        "  while j<=4:\n",
        "    print(\"rocks\")\n",
        "    j=j+1\n",
        "\n",
        "  i = i+1\n",
        "  print()\n",
        "\n"
      ],
      "metadata": {
        "colab": {
          "base_uri": "https://localhost:8080/"
        },
        "id": "4HCNmaIjbuc9",
        "outputId": "ab37ff7e-ed0a-44ec-a498-fb4b46b18eaa"
      },
      "execution_count": null,
      "outputs": [
        {
          "output_type": "stream",
          "name": "stdout",
          "text": [
            "charan\n",
            "rocks\n",
            "rocks\n",
            "rocks\n",
            "rocks\n",
            "\n",
            "charan\n",
            "\n",
            "charan\n",
            "\n",
            "charan\n",
            "\n",
            "charan\n",
            "\n"
          ]
        }
      ]
    },
    {
      "cell_type": "code",
      "source": [
        "print the values from 1 to 100 and skip the numbers which are divisible by 3 ,5"
      ],
      "metadata": {
        "colab": {
          "base_uri": "https://localhost:8080/",
          "height": 106
        },
        "id": "rNvRhJqOeqvf",
        "outputId": "6ef576a3-c839-46fa-9880-4c6861ff67ff"
      },
      "execution_count": null,
      "outputs": [
        {
          "output_type": "error",
          "ename": "SyntaxError",
          "evalue": "Missing parentheses in call to 'print'. Did you mean print(...)? (<ipython-input-31-a40e92b60330>, line 1)",
          "traceback": [
            "\u001b[0;36m  File \u001b[0;32m\"<ipython-input-31-a40e92b60330>\"\u001b[0;36m, line \u001b[0;32m1\u001b[0m\n\u001b[0;31m    print the values from 1 to 100 and skip the numbers which are divisible by 3 ,5\u001b[0m\n\u001b[0m    ^\u001b[0m\n\u001b[0;31mSyntaxError\u001b[0m\u001b[0;31m:\u001b[0m Missing parentheses in call to 'print'. Did you mean print(...)?\n"
          ]
        }
      ]
    },
    {
      "cell_type": "code",
      "source": [
        "# prompt: print the values from 1 to 100 and skip the numbers which are divisible by 3 ,5 using while loop\n",
        "\n",
        "i = 1\n",
        "while i <= 100:\n",
        "  if i % 3 != 0 and i % 5 != 0:\n",
        "    print(i)\n",
        "  i += 1\n"
      ],
      "metadata": {
        "colab": {
          "base_uri": "https://localhost:8080/"
        },
        "id": "I1NSttlefF9B",
        "outputId": "f5a76f0d-4926-41df-cff8-0903da4fd16a"
      },
      "execution_count": null,
      "outputs": [
        {
          "output_type": "stream",
          "name": "stdout",
          "text": [
            "1\n",
            "2\n",
            "4\n",
            "7\n",
            "8\n",
            "11\n",
            "13\n",
            "14\n",
            "16\n",
            "17\n",
            "19\n",
            "22\n",
            "23\n",
            "26\n",
            "28\n",
            "29\n",
            "31\n",
            "32\n",
            "34\n",
            "37\n",
            "38\n",
            "41\n",
            "43\n",
            "44\n",
            "46\n",
            "47\n",
            "49\n",
            "52\n",
            "53\n",
            "56\n",
            "58\n",
            "59\n",
            "61\n",
            "62\n",
            "64\n",
            "67\n",
            "68\n",
            "71\n",
            "73\n",
            "74\n",
            "76\n",
            "77\n",
            "79\n",
            "82\n",
            "83\n",
            "86\n",
            "88\n",
            "89\n",
            "91\n",
            "92\n",
            "94\n",
            "97\n",
            "98\n"
          ]
        }
      ]
    },
    {
      "cell_type": "code",
      "source": [
        "x =\"navin\"\n",
        "for i in x:\n",
        "  print(i)"
      ],
      "metadata": {
        "colab": {
          "base_uri": "https://localhost:8080/"
        },
        "id": "pBrud7bjf2Uj",
        "outputId": "2701df97-30bb-4695-b96e-5d197c395349"
      },
      "execution_count": null,
      "outputs": [
        {
          "output_type": "stream",
          "name": "stdout",
          "text": [
            "n\n",
            "a\n",
            "v\n",
            "i\n",
            "n\n"
          ]
        }
      ]
    },
    {
      "cell_type": "code",
      "source": [
        "for i in range (1,21):\n",
        "  if(i%5!=0):\n",
        "\n",
        "    print(i)"
      ],
      "metadata": {
        "colab": {
          "base_uri": "https://localhost:8080/"
        },
        "id": "5L5erR-FgMEK",
        "outputId": "38692a6d-a520-431f-de0e-57cea854597b"
      },
      "execution_count": null,
      "outputs": [
        {
          "output_type": "stream",
          "name": "stdout",
          "text": [
            "1\n",
            "2\n",
            "3\n",
            "4\n",
            "6\n",
            "7\n",
            "8\n",
            "9\n",
            "11\n",
            "12\n",
            "13\n",
            "14\n",
            "16\n",
            "17\n",
            "18\n",
            "19\n"
          ]
        }
      ]
    },
    {
      "cell_type": "code",
      "source": [
        "# prompt: print all the perfect square number between 1 and 500 using for loop\n",
        "\n",
        "import math\n",
        "\n",
        "for i in range(1, 501):\n",
        "  root = math.sqrt(i)\n",
        "  if int(root) ** 2 == i:\n",
        "    print(i)\n"
      ],
      "metadata": {
        "colab": {
          "base_uri": "https://localhost:8080/"
        },
        "id": "0DLU624CgVEt",
        "outputId": "a792d8c7-49de-474e-db56-bfc8043d3ae0"
      },
      "execution_count": null,
      "outputs": [
        {
          "output_type": "stream",
          "name": "stdout",
          "text": [
            "1\n",
            "4\n",
            "9\n",
            "16\n",
            "25\n",
            "36\n",
            "49\n",
            "64\n",
            "81\n",
            "100\n",
            "121\n",
            "144\n",
            "169\n",
            "196\n",
            "225\n",
            "256\n",
            "289\n",
            "324\n",
            "361\n",
            "400\n",
            "441\n",
            "484\n"
          ]
        }
      ]
    },
    {
      "cell_type": "code",
      "source": [
        "x = int(input(\"how many candies you want\"))\n",
        "i = 1\n",
        "while i <= x:\n",
        "if i >av:\n",
        "  print(\"out of stock\")\n",
        "  break\n",
        "\n",
        "  print(\"candy\")\n",
        "  i += 1\n",
        "\n",
        "\n"
      ],
      "metadata": {
        "colab": {
          "base_uri": "https://localhost:8080/"
        },
        "id": "2qiHm_Lwhi_k",
        "outputId": "10216f90-cf66-4929-a7a0-c0c1500678fd"
      },
      "execution_count": null,
      "outputs": [
        {
          "output_type": "stream",
          "name": "stdout",
          "text": [
            "how many candies you want5\n",
            "candy\n",
            "candy\n",
            "candy\n",
            "candy\n",
            "candy\n"
          ]
        }
      ]
    },
    {
      "cell_type": "code",
      "source": [
        "for i in range(1,101):\n",
        "  if i%3==0 and i%5==0:\n",
        "    continue\n",
        "  print(i)"
      ],
      "metadata": {
        "colab": {
          "base_uri": "https://localhost:8080/"
        },
        "id": "lhrO-eZPiwwk",
        "outputId": "f1b192e7-fd65-468c-92d2-3df526e357bf"
      },
      "execution_count": null,
      "outputs": [
        {
          "output_type": "stream",
          "name": "stdout",
          "text": [
            "1\n",
            "2\n",
            "3\n",
            "4\n",
            "5\n",
            "6\n",
            "7\n",
            "8\n",
            "9\n",
            "10\n",
            "11\n",
            "12\n",
            "13\n",
            "14\n",
            "16\n",
            "17\n",
            "18\n",
            "19\n",
            "20\n",
            "21\n",
            "22\n",
            "23\n",
            "24\n",
            "25\n",
            "26\n",
            "27\n",
            "28\n",
            "29\n",
            "31\n",
            "32\n",
            "33\n",
            "34\n",
            "35\n",
            "36\n",
            "37\n",
            "38\n",
            "39\n",
            "40\n",
            "41\n",
            "42\n",
            "43\n",
            "44\n",
            "46\n",
            "47\n",
            "48\n",
            "49\n",
            "50\n",
            "51\n",
            "52\n",
            "53\n",
            "54\n",
            "55\n",
            "56\n",
            "57\n",
            "58\n",
            "59\n",
            "61\n",
            "62\n",
            "63\n",
            "64\n",
            "65\n",
            "66\n",
            "67\n",
            "68\n",
            "69\n",
            "70\n",
            "71\n",
            "72\n",
            "73\n",
            "74\n",
            "76\n",
            "77\n",
            "78\n",
            "79\n",
            "80\n",
            "81\n",
            "82\n",
            "83\n",
            "84\n",
            "85\n",
            "86\n",
            "87\n",
            "88\n",
            "89\n",
            "91\n",
            "92\n",
            "93\n",
            "94\n",
            "95\n",
            "96\n",
            "97\n",
            "98\n",
            "99\n",
            "100\n"
          ]
        }
      ]
    },
    {
      "cell_type": "code",
      "source": [
        "for i in range(1,101):\n",
        "  if i%2!=0:\n",
        "    pass\n",
        "  else:\n",
        "       print(i)"
      ],
      "metadata": {
        "colab": {
          "base_uri": "https://localhost:8080/"
        },
        "id": "PNdsjtAzjPW-",
        "outputId": "bd581a3f-65b3-4837-ef60-9ac729be2d55"
      },
      "execution_count": null,
      "outputs": [
        {
          "output_type": "stream",
          "name": "stdout",
          "text": [
            "2\n",
            "4\n",
            "6\n",
            "8\n",
            "10\n",
            "12\n",
            "14\n",
            "16\n",
            "18\n",
            "20\n",
            "22\n",
            "24\n",
            "26\n",
            "28\n",
            "30\n",
            "32\n",
            "34\n",
            "36\n",
            "38\n",
            "40\n",
            "42\n",
            "44\n",
            "46\n",
            "48\n",
            "50\n",
            "52\n",
            "54\n",
            "56\n",
            "58\n",
            "60\n",
            "62\n",
            "64\n",
            "66\n",
            "68\n",
            "70\n",
            "72\n",
            "74\n",
            "76\n",
            "78\n",
            "80\n",
            "82\n",
            "84\n",
            "86\n",
            "88\n",
            "90\n",
            "92\n",
            "94\n",
            "96\n",
            "98\n",
            "100\n"
          ]
        }
      ]
    },
    {
      "cell_type": "code",
      "source": [
        "# prompt: print first 50 fibonacci numbers\n",
        "\n",
        "def fibonacci(n):\n",
        "    if n <= 0:\n",
        "        return []\n",
        "    elif n == 1:\n",
        "        return [0]\n",
        "    else:\n",
        "        list_fib = [0, 1]\n",
        "        while len(list_fib) < n:\n",
        "            next_fib = list_fib[-1] + list_fib[-2]\n",
        "            list_fib.append(next_fib)\n",
        "        return list_fib\n",
        "\n",
        "# Print the first 50 Fibonacci numbers\n",
        "fib_numbers = fibonacci(50)\n",
        "print(fib_numbers)\n"
      ],
      "metadata": {
        "colab": {
          "base_uri": "https://localhost:8080/"
        },
        "id": "gVtHBOpQkBYT",
        "outputId": "6a05dadd-90ec-4f80-d355-1487f57ecf2c"
      },
      "execution_count": 1,
      "outputs": [
        {
          "output_type": "stream",
          "name": "stdout",
          "text": [
            "[0, 1, 1, 2, 3, 5, 8, 13, 21, 34, 55, 89, 144, 233, 377, 610, 987, 1597, 2584, 4181, 6765, 10946, 17711, 28657, 46368, 75025, 121393, 196418, 317811, 514229, 832040, 1346269, 2178309, 3524578, 5702887, 9227465, 14930352, 24157817, 39088169, 63245986, 102334155, 165580141, 267914296, 433494437, 701408733, 1134903170, 1836311903, 2971215073, 4807526976, 7778742049]\n"
          ]
        }
      ]
    },
    {
      "cell_type": "markdown",
      "source": [
        "printing 4*4 matrix with #\n"
      ],
      "metadata": {
        "id": "NSXorvAC4apk"
      }
    },
    {
      "cell_type": "code",
      "source": [
        "for i in range(4):\n",
        "    for j in range(4):\n",
        "      print (\"#\",end=\"\")\n",
        "    print()\n"
      ],
      "metadata": {
        "colab": {
          "base_uri": "https://localhost:8080/"
        },
        "id": "h39Nglm6374z",
        "outputId": "da53a9df-13ee-447c-cd2b-63762d021f91"
      },
      "execution_count": 8,
      "outputs": [
        {
          "output_type": "stream",
          "name": "stdout",
          "text": [
            "####\n",
            "####\n",
            "####\n",
            "####\n"
          ]
        }
      ]
    },
    {
      "cell_type": "markdown",
      "source": [
        "printing  the pattern of right angle triangle"
      ],
      "metadata": {
        "id": "E6Ah0XrQ5w6V"
      }
    },
    {
      "cell_type": "code",
      "source": [
        "for i in range(4):\n",
        "    for j in range(i+1):\n",
        "      print (\"*\",end=\"\")\n",
        "    print()\n",
        ""
      ],
      "metadata": {
        "colab": {
          "base_uri": "https://localhost:8080/"
        },
        "id": "p-M4dNrn5Glf",
        "outputId": "400a6805-e654-4df6-dc2f-55421bb0824f"
      },
      "execution_count": 11,
      "outputs": [
        {
          "output_type": "stream",
          "name": "stdout",
          "text": [
            "*\n",
            "**\n",
            "***\n",
            "****\n"
          ]
        }
      ]
    },
    {
      "cell_type": "code",
      "source": [
        "for i in range(4):\n",
        "    for j in range(4-i):\n",
        "      print (\"*\",end=\"\")\n",
        "    print()"
      ],
      "metadata": {
        "colab": {
          "base_uri": "https://localhost:8080/"
        },
        "id": "fd9-D4w76MPm",
        "outputId": "af98d6b2-ad13-4e48-d1e7-4610b57a06a2"
      },
      "execution_count": 10,
      "outputs": [
        {
          "output_type": "stream",
          "name": "stdout",
          "text": [
            "****\n",
            "***\n",
            "**\n",
            "*\n"
          ]
        }
      ]
    },
    {
      "cell_type": "code",
      "source": [
        "    for i in range(1,5):\n",
        "      for j in range(1,i+1):\n",
        "        print(j,end=\"\")\n",
        "      print()\n",
        "\n"
      ],
      "metadata": {
        "colab": {
          "base_uri": "https://localhost:8080/"
        },
        "id": "KB26IZaP6eq9",
        "outputId": "7dbd46f4-2295-4b85-aee6-9559bc9a6822"
      },
      "execution_count": 12,
      "outputs": [
        {
          "output_type": "stream",
          "name": "stdout",
          "text": [
            "1\n",
            "12\n",
            "123\n",
            "1234\n"
          ]
        }
      ]
    },
    {
      "cell_type": "code",
      "source": [
        "# prompt: how to print the pattern of 1234,234,34,4 in python\n",
        "\n",
        "for i in range(1, 5):\n",
        "  for j in range(i, 5):\n",
        "    print(j, end=\"\")\n",
        "  print()\n"
      ],
      "metadata": {
        "colab": {
          "base_uri": "https://localhost:8080/"
        },
        "id": "9uEpLVuW9VWO",
        "outputId": "a756369a-3d78-4982-ca4b-fbad4c0685f3"
      },
      "execution_count": 21,
      "outputs": [
        {
          "output_type": "stream",
          "name": "stdout",
          "text": [
            "1234\n",
            "234\n",
            "34\n",
            "4\n"
          ]
        }
      ]
    },
    {
      "cell_type": "code",
      "source": [
        "nums =[19,25,34,21,20]\n",
        "for i in nums:\n",
        "  if i%5==0:\n",
        "    print(i)\n",
        "    break\n",
        "\n",
        "else:\n",
        "  print(\"not found\")"
      ],
      "metadata": {
        "colab": {
          "base_uri": "https://localhost:8080/"
        },
        "id": "LfO2t3G4-n_z",
        "outputId": "1f1ec737-f590-4793-9758-8caaa0ed61b6"
      },
      "execution_count": 29,
      "outputs": [
        {
          "output_type": "stream",
          "name": "stdout",
          "text": [
            "25\n"
          ]
        }
      ]
    },
    {
      "cell_type": "markdown",
      "source": [
        "printing the numbers which are divisible by 5 using break"
      ],
      "metadata": {
        "id": "KhiZ86Ey_HzC"
      }
    },
    {
      "cell_type": "markdown",
      "source": [
        "TO FIND GIVEN NUMBER IS PRIME OR NOT"
      ],
      "metadata": {
        "id": "kpERMMf5_skt"
      }
    },
    {
      "cell_type": "code",
      "source": [
        "num = 10\n",
        "for i in range(2,num):\n",
        "  if num%i==0:\n",
        "    print(\"not prime\")\n",
        "    break\n",
        "\n",
        "else:\n",
        "  print(\"prime\")"
      ],
      "metadata": {
        "colab": {
          "base_uri": "https://localhost:8080/"
        },
        "id": "kzpfolvt_Yus",
        "outputId": "09e6cb7e-9d27-4e64-80dc-bdd1ffee6810"
      },
      "execution_count": 33,
      "outputs": [
        {
          "output_type": "stream",
          "name": "stdout",
          "text": [
            "not prime\n"
          ]
        }
      ]
    },
    {
      "cell_type": "code",
      "source": [],
      "metadata": {
        "id": "W-2o02OGAglZ"
      },
      "execution_count": null,
      "outputs": []
    }
  ]
}